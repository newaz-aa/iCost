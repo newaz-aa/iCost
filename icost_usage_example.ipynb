{
 "cells": [
  {
   "cell_type": "markdown",
   "id": "1a3838b2-6dec-4b63-9061-aadf87ff5796",
   "metadata": {},
   "source": [
    "# Import "
   ]
  },
  {
   "cell_type": "code",
   "execution_count": 1,
   "id": "c919c46a-1f84-44bd-b867-0edbc5bde125",
   "metadata": {},
   "outputs": [],
   "source": [
    "# importing additional libraries\n",
    "\n",
    "import sklearn\n",
    "import numpy as np\n",
    "import pandas as pd\n",
    "from sklearn.svm import SVC\n",
    "from sklearn.linear_model import LogisticRegression\n",
    "from sklearn.neighbors import KNeighborsClassifier\n",
    "\n",
    "from sklearn.model_selection import *\n",
    "from sklearn.metrics import *\n",
    "from sklearn.preprocessing import *\n",
    "from imblearn.pipeline import Pipeline\n",
    "from imblearn.metrics import *"
   ]
  },
  {
   "cell_type": "code",
   "execution_count": 25,
   "id": "35da813b-c326-4f81-833b-7968987dfa4f",
   "metadata": {},
   "outputs": [],
   "source": [
    "from icost import iCost   # importing the iCost method\n",
    "from mst_linked_ind import mst_instance_complexity, compute_mst_linked_indices   # importing helper function for MST implementation\n",
    "from categorize_minority_v2 import categorize_minority_class    # importing helper function to check minority categorization"
   ]
  },
  {
   "cell_type": "markdown",
   "id": "773a1c5d-5c3d-49a6-91a7-991c5c532cb2",
   "metadata": {},
   "source": [
    "# Processing "
   ]
  },
  {
   "cell_type": "code",
   "execution_count": 3,
   "id": "80b97256-6dde-4575-9395-b488ed073418",
   "metadata": {},
   "outputs": [],
   "source": [
    "# scaling\n",
    "sc= MinMaxScaler()"
   ]
  },
  {
   "cell_type": "code",
   "execution_count": 4,
   "id": "aff699a7-3a28-4270-b67e-6083cf1c3944",
   "metadata": {},
   "outputs": [],
   "source": [
    "# performance measure\n",
    "scores={'accuracy': make_scorer(accuracy_score),\n",
    "        'recall' : make_scorer(recall_score),\n",
    "        'specificity':make_scorer(recall_score,pos_label=0),\n",
    "        'gmean': make_scorer(geometric_mean_score),\n",
    "        'roc': make_scorer(roc_auc_score),\n",
    "        'precision':make_scorer(precision_score),\n",
    "        'mcc':make_scorer(matthews_corrcoef),\n",
    "        'f1': make_scorer(f1_score)\n",
    "        }"
   ]
  },
  {
   "cell_type": "markdown",
   "id": "d7981501-f5c3-4482-826c-7ac1781cff6e",
   "metadata": {},
   "source": [
    "# Defining iCost algorithm"
   ]
  },
  {
   "cell_type": "code",
   "execution_count": 17,
   "id": "92279047-6caa-4555-af1c-ecd8e29a48ba",
   "metadata": {},
   "outputs": [],
   "source": [
    "# default iCost (method = original CS implementation of sklearn)\n",
    "clf0 = iCost(SVC())\n",
    "\n",
    "# No cost\n",
    "clf1 = iCost(SVC(), method=\"ncs\")\n",
    "\n",
    "# Standard sklearn-like\n",
    "clf2 = iCost(SVC(), method=\"org\")\n",
    "\n",
    "# Neighbor, mode 1 => safe, pure, border category\n",
    "clf3 = iCost(SVC(), method=\"neighbor\", neighbor_mode=1)\n",
    "\n",
    "# Neighbor, mode 2 => safe, border, outlier category\n",
    "clf4 = iCost(SVC(), method=\"neighbor\", neighbor_mode=2)\n",
    "\n",
    "# Neighbor, mode 3 => applying cost individually\n",
    "clf5 = iCost(SVC(), method=\"neighbor\", neighbor_mode=3, neighbor_costs= [2, 2, 5, 7, 7, 2]) #the cost values are selected based on the IR of Ecoli dataset"
   ]
  },
  {
   "cell_type": "code",
   "execution_count": 26,
   "id": "26085e26-5fc3-4c39-9ef4-48703d7af351",
   "metadata": {},
   "outputs": [],
   "source": [
    "#from mst_instance_complexity import compute_mst_linked_indices\n",
    "linked = compute_mst_linked_indices(x, y, positive_label=1)\n",
    "\n",
    "clf6 = iCost(\n",
    "    base_classifier=SVC(),\n",
    "    method=\"mst\",\n",
    "    index_vec=linked      # supply precomputed linked minority indices\n",
    ")"
   ]
  },
  {
   "cell_type": "markdown",
   "id": "9377d99a-9723-475a-8c42-f102227d0786",
   "metadata": {},
   "source": [
    "# Testing on Ecoli dataset"
   ]
  },
  {
   "cell_type": "markdown",
   "id": "e6994bf5-0e6f-43a3-bfd5-9b3c5953aa4b",
   "metadata": {},
   "source": [
    "## Data Preparation"
   ]
  },
  {
   "cell_type": "code",
   "execution_count": 6,
   "id": "3fe803fe-affd-48ac-973b-6fe7647caac4",
   "metadata": {},
   "outputs": [
    {
     "data": {
      "text/html": [
       "<div>\n",
       "<style scoped>\n",
       "    .dataframe tbody tr th:only-of-type {\n",
       "        vertical-align: middle;\n",
       "    }\n",
       "\n",
       "    .dataframe tbody tr th {\n",
       "        vertical-align: top;\n",
       "    }\n",
       "\n",
       "    .dataframe thead th {\n",
       "        text-align: right;\n",
       "    }\n",
       "</style>\n",
       "<table border=\"1\" class=\"dataframe\">\n",
       "  <thead>\n",
       "    <tr style=\"text-align: right;\">\n",
       "      <th></th>\n",
       "      <th>F1</th>\n",
       "      <th>F2</th>\n",
       "      <th>F3</th>\n",
       "      <th>F4</th>\n",
       "      <th>F5</th>\n",
       "      <th>F6</th>\n",
       "      <th>F7</th>\n",
       "      <th>Class</th>\n",
       "    </tr>\n",
       "  </thead>\n",
       "  <tbody>\n",
       "    <tr>\n",
       "      <th>0</th>\n",
       "      <td>0.49</td>\n",
       "      <td>0.29</td>\n",
       "      <td>0.48</td>\n",
       "      <td>0.5</td>\n",
       "      <td>0.56</td>\n",
       "      <td>0.24</td>\n",
       "      <td>0.35</td>\n",
       "      <td>0</td>\n",
       "    </tr>\n",
       "    <tr>\n",
       "      <th>1</th>\n",
       "      <td>0.07</td>\n",
       "      <td>0.40</td>\n",
       "      <td>0.48</td>\n",
       "      <td>0.5</td>\n",
       "      <td>0.54</td>\n",
       "      <td>0.35</td>\n",
       "      <td>0.44</td>\n",
       "      <td>0</td>\n",
       "    </tr>\n",
       "    <tr>\n",
       "      <th>2</th>\n",
       "      <td>0.56</td>\n",
       "      <td>0.40</td>\n",
       "      <td>0.48</td>\n",
       "      <td>0.5</td>\n",
       "      <td>0.49</td>\n",
       "      <td>0.37</td>\n",
       "      <td>0.46</td>\n",
       "      <td>0</td>\n",
       "    </tr>\n",
       "    <tr>\n",
       "      <th>3</th>\n",
       "      <td>0.59</td>\n",
       "      <td>0.49</td>\n",
       "      <td>0.48</td>\n",
       "      <td>0.5</td>\n",
       "      <td>0.52</td>\n",
       "      <td>0.45</td>\n",
       "      <td>0.36</td>\n",
       "      <td>0</td>\n",
       "    </tr>\n",
       "    <tr>\n",
       "      <th>4</th>\n",
       "      <td>0.23</td>\n",
       "      <td>0.32</td>\n",
       "      <td>0.48</td>\n",
       "      <td>0.5</td>\n",
       "      <td>0.55</td>\n",
       "      <td>0.25</td>\n",
       "      <td>0.35</td>\n",
       "      <td>0</td>\n",
       "    </tr>\n",
       "    <tr>\n",
       "      <th>...</th>\n",
       "      <td>...</td>\n",
       "      <td>...</td>\n",
       "      <td>...</td>\n",
       "      <td>...</td>\n",
       "      <td>...</td>\n",
       "      <td>...</td>\n",
       "      <td>...</td>\n",
       "      <td>...</td>\n",
       "    </tr>\n",
       "    <tr>\n",
       "      <th>331</th>\n",
       "      <td>0.74</td>\n",
       "      <td>0.56</td>\n",
       "      <td>0.48</td>\n",
       "      <td>0.5</td>\n",
       "      <td>0.47</td>\n",
       "      <td>0.68</td>\n",
       "      <td>0.30</td>\n",
       "      <td>1</td>\n",
       "    </tr>\n",
       "    <tr>\n",
       "      <th>332</th>\n",
       "      <td>0.71</td>\n",
       "      <td>0.57</td>\n",
       "      <td>0.48</td>\n",
       "      <td>0.5</td>\n",
       "      <td>0.48</td>\n",
       "      <td>0.35</td>\n",
       "      <td>0.32</td>\n",
       "      <td>1</td>\n",
       "    </tr>\n",
       "    <tr>\n",
       "      <th>333</th>\n",
       "      <td>0.61</td>\n",
       "      <td>0.60</td>\n",
       "      <td>0.48</td>\n",
       "      <td>0.5</td>\n",
       "      <td>0.44</td>\n",
       "      <td>0.39</td>\n",
       "      <td>0.38</td>\n",
       "      <td>1</td>\n",
       "    </tr>\n",
       "    <tr>\n",
       "      <th>334</th>\n",
       "      <td>0.59</td>\n",
       "      <td>0.61</td>\n",
       "      <td>0.48</td>\n",
       "      <td>0.5</td>\n",
       "      <td>0.42</td>\n",
       "      <td>0.42</td>\n",
       "      <td>0.37</td>\n",
       "      <td>1</td>\n",
       "    </tr>\n",
       "    <tr>\n",
       "      <th>335</th>\n",
       "      <td>0.74</td>\n",
       "      <td>0.74</td>\n",
       "      <td>0.48</td>\n",
       "      <td>0.5</td>\n",
       "      <td>0.31</td>\n",
       "      <td>0.53</td>\n",
       "      <td>0.52</td>\n",
       "      <td>1</td>\n",
       "    </tr>\n",
       "  </tbody>\n",
       "</table>\n",
       "<p>336 rows × 8 columns</p>\n",
       "</div>"
      ],
      "text/plain": [
       "       F1    F2    F3   F4    F5    F6    F7  Class\n",
       "0    0.49  0.29  0.48  0.5  0.56  0.24  0.35      0\n",
       "1    0.07  0.40  0.48  0.5  0.54  0.35  0.44      0\n",
       "2    0.56  0.40  0.48  0.5  0.49  0.37  0.46      0\n",
       "3    0.59  0.49  0.48  0.5  0.52  0.45  0.36      0\n",
       "4    0.23  0.32  0.48  0.5  0.55  0.25  0.35      0\n",
       "..    ...   ...   ...  ...   ...   ...   ...    ...\n",
       "331  0.74  0.56  0.48  0.5  0.47  0.68  0.30      1\n",
       "332  0.71  0.57  0.48  0.5  0.48  0.35  0.32      1\n",
       "333  0.61  0.60  0.48  0.5  0.44  0.39  0.38      1\n",
       "334  0.59  0.61  0.48  0.5  0.42  0.42  0.37      1\n",
       "335  0.74  0.74  0.48  0.5  0.31  0.53  0.52      1\n",
       "\n",
       "[336 rows x 8 columns]"
      ]
     },
     "execution_count": 6,
     "metadata": {},
     "output_type": "execute_result"
    }
   ],
   "source": [
    "data= pd.read_csv('ecoli2.csv')\n",
    "data"
   ]
  },
  {
   "cell_type": "code",
   "execution_count": 7,
   "id": "3fc4cc02-dc4d-4d3d-a98a-46f35201c249",
   "metadata": {},
   "outputs": [
    {
     "data": {
      "text/plain": [
       "Class\n",
       "0    284\n",
       "1     52\n",
       "Name: count, dtype: int64"
      ]
     },
     "execution_count": 7,
     "metadata": {},
     "output_type": "execute_result"
    }
   ],
   "source": [
    "data['Class'].value_counts()"
   ]
  },
  {
   "cell_type": "code",
   "execution_count": 8,
   "id": "6309c8ce-a3a2-4fc0-8256-09ccf1c61bd8",
   "metadata": {},
   "outputs": [
    {
     "data": {
      "text/plain": [
       "5.461538461538462"
      ]
     },
     "execution_count": 8,
     "metadata": {},
     "output_type": "execute_result"
    }
   ],
   "source": [
    "# imbalance ratio \n",
    "Ir= 284/52\n",
    "Ir"
   ]
  },
  {
   "cell_type": "code",
   "execution_count": 9,
   "id": "ce57725a-60f1-47d3-b79b-74c345160117",
   "metadata": {},
   "outputs": [],
   "source": [
    "# preprocessing the data\n",
    "x=data.iloc[:,:-1]\n",
    "y=data.iloc[:,-1]\n",
    "x= sc.fit_transform(x)"
   ]
  },
  {
   "cell_type": "markdown",
   "id": "071097dd-bb88-4c68-a28a-300217137ba9",
   "metadata": {},
   "source": [
    "## categorization"
   ]
  },
  {
   "cell_type": "code",
   "execution_count": 10,
   "id": "ae2cac9a-9858-4754-a5d2-f667e93dac8a",
   "metadata": {},
   "outputs": [
    {
     "name": "stdout",
     "output_type": "stream",
     "text": [
      "Category summary (minority samples):\n",
      "  p: 19\n",
      "  s: 26\n",
      "  b: 7\n"
     ]
    }
   ],
   "source": [
    "min_idx, groups, opp_counts = categorize_minority_class(\n",
    "    data,\n",
    "    minority_label= 1,   # minority class = 1\n",
    "    scale=True,          # z-score features before KNN (usually a good idea)\n",
    "    mode=1,              # 1: (safe=0, pure=1–2, border=3–5)\n",
    "    show_summary=True\n",
    "    # mode=2,            # 2: (safe=0–1, border=2–4, outlier=5)\n",
    "    # mode=3,            # 3: returns g1..g6 buckets\n",
    "    # feature_cols=[...],# if you want to specify features explicitly\n",
    "    # label_col=\"label\", # if your label is not the last column\n",
    ")"
   ]
  },
  {
   "cell_type": "code",
   "execution_count": 13,
   "id": "a6cd78b7-545b-4f39-9bd8-2c6f0b9cbcd2",
   "metadata": {},
   "outputs": [
    {
     "name": "stdout",
     "output_type": "stream",
     "text": [
      "Minority sample count: 52\n",
      "groups: ['p', 's', 's', 'p', 'p', 's', 'p', 'p', 's', 's', 'p', 's', 's', 's', 'p', 's', 'b', 's', 'p', 's', 's', 's', 'b', 's', 'p', 's', 'b', 's', 's', 'p', 'b', 's', 's', 'p', 's', 's', 'p', 'p', 'p', 'p', 's', 'b', 'p', 'p', 's', 'b', 'b', 'p', 's', 's', 'p', 's']\n"
     ]
    }
   ],
   "source": [
    "print(\"Minority sample count:\", len(min_idx))\n",
    "print(\"groups:\", groups)\n",
    "#print(\"Opposite-neighbor counts (first 10):\", opp_counts[:10])"
   ]
  },
  {
   "cell_type": "code",
   "execution_count": 14,
   "id": "33aa581e-bb2c-4a37-95fa-6822da0cbc92",
   "metadata": {},
   "outputs": [
    {
     "data": {
      "text/plain": [
       "array([1, 0, 0, 2, 1, 0, 1, 1, 0, 0, 1, 0, 0, 0, 1, 0, 5, 0, 1, 0, 0, 0,\n",
       "       3, 0, 1, 0, 3, 0, 0, 1, 5, 0, 0, 2, 0, 0, 1, 2, 1, 1, 0, 5, 2, 2,\n",
       "       0, 3, 5, 1, 0, 0, 1, 0])"
      ]
     },
     "execution_count": 14,
     "metadata": {},
     "output_type": "execute_result"
    }
   ],
   "source": [
    "opp_counts"
   ]
  },
  {
   "cell_type": "code",
   "execution_count": 15,
   "id": "acb9954d-bb0b-4805-946d-ddd4c484f6f3",
   "metadata": {},
   "outputs": [
    {
     "name": "stdout",
     "output_type": "stream",
     "text": [
      "Category summary (minority samples):\n",
      "  s: 40\n",
      "  b: 8\n",
      "  o: 4\n"
     ]
    }
   ],
   "source": [
    "min_idx, groups, opp_counts = categorize_minority_class(\n",
    "    data,\n",
    "    scale=True,          # z-score features before KNN (usually a good idea)\n",
    "    mode=2               # 2: (safe=0–1, border=2–4, outlier=5)\n",
    "    #show_summary=True\n",
    "    # mode=2,            # 2: (safe=0–1, border=2–4, outlier=5)\n",
    "    # mode=3,            # 3: returns g1..g6 buckets\n",
    "    # feature_cols=[...],# if you want to specify features explicitly\n",
    "    # label_col=\"label\", # if your label is not the last column\n",
    ")"
   ]
  },
  {
   "cell_type": "raw",
   "id": "19499155-66bd-4f46-9ac0-c5c6c7222aba",
   "metadata": {},
   "source": [
    "So, the dataset contains 4 outliers."
   ]
  },
  {
   "cell_type": "markdown",
   "id": "e91bc9ae-894c-40dc-85c0-15de713ad5a3",
   "metadata": {},
   "source": [
    "## Results"
   ]
  },
  {
   "cell_type": "code",
   "execution_count": 18,
   "id": "991468f3-11aa-4e04-a8a3-30ed137fdaaf",
   "metadata": {},
   "outputs": [
    {
     "data": {
      "text/plain": [
       "fit_time             0.450384\n",
       "score_time           2.153012\n",
       "test_accuracy       94.075066\n",
       "test_recall         92.345455\n",
       "test_specificity    94.397243\n",
       "test_gmean          93.278748\n",
       "test_roc            93.371349\n",
       "test_precision      76.547309\n",
       "test_mcc            80.557388\n",
       "test_f1             83.177029\n",
       "dtype: float64"
      ]
     },
     "execution_count": 18,
     "metadata": {},
     "output_type": "execute_result"
    }
   ],
   "source": [
    "score = cross_validate(clf0, x,y, cv=RepeatedStratifiedKFold(random_state=50), n_jobs=-1, scoring=scores)\n",
    "df=pd.DataFrame(score)\n",
    "df.mean()*100"
   ]
  },
  {
   "cell_type": "code",
   "execution_count": 19,
   "id": "aebe35a5-9537-4e65-b91a-fbc6df5c209c",
   "metadata": {},
   "outputs": [
    {
     "data": {
      "text/plain": [
       "fit_time             0.311175\n",
       "score_time           2.092422\n",
       "test_accuracy       95.269974\n",
       "test_recall         79.400000\n",
       "test_specificity    98.171053\n",
       "test_gmean          88.130358\n",
       "test_roc            88.785526\n",
       "test_precision      89.625974\n",
       "test_mcc            81.491898\n",
       "test_f1             83.718643\n",
       "dtype: float64"
      ]
     },
     "execution_count": 19,
     "metadata": {},
     "output_type": "execute_result"
    }
   ],
   "source": [
    "score = cross_validate(clf1, x,y, cv=RepeatedStratifiedKFold(random_state=50), n_jobs=-1, scoring=scores)\n",
    "df=pd.DataFrame(score)\n",
    "df.mean()*100"
   ]
  },
  {
   "cell_type": "code",
   "execution_count": 20,
   "id": "77c9f94b-7cc9-4c52-8469-25d2d908da29",
   "metadata": {},
   "outputs": [
    {
     "data": {
      "text/plain": [
       "fit_time             0.351019\n",
       "score_time           1.987654\n",
       "test_accuracy       94.075066\n",
       "test_recall         92.345455\n",
       "test_specificity    94.397243\n",
       "test_gmean          93.278748\n",
       "test_roc            93.371349\n",
       "test_precision      76.547309\n",
       "test_mcc            80.557388\n",
       "test_f1             83.177029\n",
       "dtype: float64"
      ]
     },
     "execution_count": 20,
     "metadata": {},
     "output_type": "execute_result"
    }
   ],
   "source": [
    "score = cross_validate(clf2, x,y, cv=RepeatedStratifiedKFold(random_state=50), n_jobs=-1, scoring=scores)\n",
    "df=pd.DataFrame(score)\n",
    "df.mean()*100"
   ]
  },
  {
   "cell_type": "code",
   "execution_count": 21,
   "id": "efde3cf4-5509-4cf9-9693-18212838e5e9",
   "metadata": {},
   "outputs": [
    {
     "data": {
      "text/plain": [
       "fit_time             0.727618\n",
       "score_time           1.972428\n",
       "test_accuracy       94.136084\n",
       "test_recall         92.345455\n",
       "test_specificity    94.469298\n",
       "test_gmean          93.316690\n",
       "test_roc            93.407376\n",
       "test_precision      76.614852\n",
       "test_mcc            80.638286\n",
       "test_f1             83.260466\n",
       "dtype: float64"
      ]
     },
     "execution_count": 21,
     "metadata": {},
     "output_type": "execute_result"
    }
   ],
   "source": [
    "score = cross_validate(clf3, x,y, cv=RepeatedStratifiedKFold(random_state=50), n_jobs=-1, scoring=scores)\n",
    "df=pd.DataFrame(score)\n",
    "df.mean()*100"
   ]
  },
  {
   "cell_type": "code",
   "execution_count": 22,
   "id": "1e190cb8-1fb4-4a79-9d50-1d68248586a3",
   "metadata": {},
   "outputs": [
    {
     "data": {
      "text/plain": [
       "fit_time             0.681502\n",
       "score_time           1.954055\n",
       "test_accuracy       95.029412\n",
       "test_recall         92.345455\n",
       "test_specificity    95.526316\n",
       "test_gmean          93.845368\n",
       "test_roc            93.935885\n",
       "test_precision      80.074822\n",
       "test_mcc            83.009689\n",
       "test_f1             85.380859\n",
       "dtype: float64"
      ]
     },
     "execution_count": 22,
     "metadata": {},
     "output_type": "execute_result"
    }
   ],
   "source": [
    "score = cross_validate(clf4, x,y, cv=RepeatedStratifiedKFold(random_state=50), n_jobs=-1, scoring=scores)\n",
    "df=pd.DataFrame(score)\n",
    "df.mean()*100"
   ]
  },
  {
   "cell_type": "code",
   "execution_count": 23,
   "id": "906cab2e-1d00-417f-9f82-93424b29a8e3",
   "metadata": {},
   "outputs": [
    {
     "data": {
      "text/plain": [
       "fit_time             0.719196\n",
       "score_time           2.061048\n",
       "test_accuracy       95.387621\n",
       "test_recall         92.345455\n",
       "test_specificity    95.948622\n",
       "test_gmean          94.049102\n",
       "test_roc            94.147038\n",
       "test_precision      81.848782\n",
       "test_mcc            84.127716\n",
       "test_f1             86.329800\n",
       "dtype: float64"
      ]
     },
     "execution_count": 23,
     "metadata": {},
     "output_type": "execute_result"
    }
   ],
   "source": [
    "score = cross_validate(clf5, x,y, cv=RepeatedStratifiedKFold(random_state=50), n_jobs=-1, scoring=scores)\n",
    "df=pd.DataFrame(score)\n",
    "df.mean()*100"
   ]
  },
  {
   "cell_type": "code",
   "execution_count": 27,
   "id": "a87804bc-9433-46fd-9767-b102d9a36b11",
   "metadata": {},
   "outputs": [
    {
     "data": {
      "text/plain": [
       "fit_time             0.367602\n",
       "score_time           2.113750\n",
       "test_accuracy       94.373573\n",
       "test_recall         92.345455\n",
       "test_specificity    94.749373\n",
       "test_gmean          93.454848\n",
       "test_roc            93.547414\n",
       "test_precision      77.628586\n",
       "test_mcc            81.313980\n",
       "test_f1             83.858874\n",
       "dtype: float64"
      ]
     },
     "execution_count": 27,
     "metadata": {},
     "output_type": "execute_result"
    }
   ],
   "source": [
    "score = cross_validate(clf6, x,y, cv=RepeatedStratifiedKFold(random_state=50), n_jobs=-1, scoring=scores)\n",
    "df=pd.DataFrame(score)\n",
    "df.mean()*100"
   ]
  },
  {
   "cell_type": "raw",
   "id": "96e8a197-1179-4acc-aa18-9bc1196acb33",
   "metadata": {},
   "source": [
    "As we can see, the iCost algorithm outperforms the traditional CS approach. neighbor_mode=2 and 3 produced the best results for this dataset. The penalty values can be tuned to improve performance. "
   ]
  }
 ],
 "metadata": {
  "kernelspec": {
   "display_name": "Python [conda env:base] *",
   "language": "python",
   "name": "conda-base-py"
  },
  "language_info": {
   "codemirror_mode": {
    "name": "ipython",
    "version": 3
   },
   "file_extension": ".py",
   "mimetype": "text/x-python",
   "name": "python",
   "nbconvert_exporter": "python",
   "pygments_lexer": "ipython3",
   "version": "3.13.5"
  }
 },
 "nbformat": 4,
 "nbformat_minor": 5
}
